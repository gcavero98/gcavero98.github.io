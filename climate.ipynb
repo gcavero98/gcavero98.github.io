{
 "cells": [
  {
   "cell_type": "code",
   "execution_count": 4,
   "metadata": {
    "collapsed": true,
    "ExecuteTime": {
     "end_time": "2023-06-19T17:28:05.594990Z",
     "start_time": "2023-06-19T17:28:05.587568Z"
    }
   },
   "outputs": [],
   "source": [
    "import seaborn as sns\n",
    "from matplotlib import pyplot as plt\n",
    "import numpy as np\n",
    "import pandas as pd\n",
    "import sklearn\n",
    "\n",
    "import os, sys, pathlib"
   ]
  },
  {
   "cell_type": "code",
   "execution_count": 10,
   "outputs": [],
   "source": [
    "df = pd.read_csv('./data/clima.csv', parse_dates=['time'])"
   ],
   "metadata": {
    "collapsed": false,
    "ExecuteTime": {
     "end_time": "2023-06-19T17:28:49.125191Z",
     "start_time": "2023-06-19T17:28:49.051451Z"
    }
   }
  },
  {
   "cell_type": "code",
   "execution_count": 12,
   "outputs": [
    {
     "data": {
      "text/plain": "                 time  temperature_2m  total_cloud_cover  total_precipitation  \\\n0 2019-01-01 00:00:00      281.397430                0.0                  0.0   \n1 2019-01-01 01:00:00      281.302124                0.0                  0.0   \n2 2019-01-01 02:00:00      281.606873                0.0                  0.0   \n3 2019-01-01 03:00:00      281.437439                0.0                  0.0   \n4 2019-01-01 04:00:00      281.042328                0.0                  0.0   \n\n   windspeed_10m  \n0       2.547827  \n1       2.412716  \n2       2.095948  \n3       1.777547  \n4       1.729757  ",
      "text/html": "<div>\n<style scoped>\n    .dataframe tbody tr th:only-of-type {\n        vertical-align: middle;\n    }\n\n    .dataframe tbody tr th {\n        vertical-align: top;\n    }\n\n    .dataframe thead th {\n        text-align: right;\n    }\n</style>\n<table border=\"1\" class=\"dataframe\">\n  <thead>\n    <tr style=\"text-align: right;\">\n      <th></th>\n      <th>time</th>\n      <th>temperature_2m</th>\n      <th>total_cloud_cover</th>\n      <th>total_precipitation</th>\n      <th>windspeed_10m</th>\n    </tr>\n  </thead>\n  <tbody>\n    <tr>\n      <th>0</th>\n      <td>2019-01-01 00:00:00</td>\n      <td>281.397430</td>\n      <td>0.0</td>\n      <td>0.0</td>\n      <td>2.547827</td>\n    </tr>\n    <tr>\n      <th>1</th>\n      <td>2019-01-01 01:00:00</td>\n      <td>281.302124</td>\n      <td>0.0</td>\n      <td>0.0</td>\n      <td>2.412716</td>\n    </tr>\n    <tr>\n      <th>2</th>\n      <td>2019-01-01 02:00:00</td>\n      <td>281.606873</td>\n      <td>0.0</td>\n      <td>0.0</td>\n      <td>2.095948</td>\n    </tr>\n    <tr>\n      <th>3</th>\n      <td>2019-01-01 03:00:00</td>\n      <td>281.437439</td>\n      <td>0.0</td>\n      <td>0.0</td>\n      <td>1.777547</td>\n    </tr>\n    <tr>\n      <th>4</th>\n      <td>2019-01-01 04:00:00</td>\n      <td>281.042328</td>\n      <td>0.0</td>\n      <td>0.0</td>\n      <td>1.729757</td>\n    </tr>\n  </tbody>\n</table>\n</div>"
     },
     "execution_count": 12,
     "metadata": {},
     "output_type": "execute_result"
    }
   ],
   "source": [
    "df.head()"
   ],
   "metadata": {
    "collapsed": false,
    "ExecuteTime": {
     "end_time": "2023-06-19T17:28:50.739146Z",
     "start_time": "2023-06-19T17:28:50.733197Z"
    }
   }
  },
  {
   "cell_type": "code",
   "execution_count": 15,
   "outputs": [
    {
     "data": {
      "text/plain": "       temperature_2m  total_cloud_cover  total_precipitation  windspeed_10m\ncount    38827.000000       38827.000000         38827.000000   38827.000000\nmean       289.486767           0.484524             0.000070       2.998598\nstd          6.001140           0.365584             0.000340       1.866365\nmin        275.262695           0.000000             0.000000       0.028852\n25%        284.717856           0.114564             0.000000       1.695508\n50%        288.661514           0.461168             0.000000       2.570017\n75%        294.533142           0.862882             0.000009       3.879280\nmax        305.884277           1.000004             0.010371      15.273021",
      "text/html": "<div>\n<style scoped>\n    .dataframe tbody tr th:only-of-type {\n        vertical-align: middle;\n    }\n\n    .dataframe tbody tr th {\n        vertical-align: top;\n    }\n\n    .dataframe thead th {\n        text-align: right;\n    }\n</style>\n<table border=\"1\" class=\"dataframe\">\n  <thead>\n    <tr style=\"text-align: right;\">\n      <th></th>\n      <th>temperature_2m</th>\n      <th>total_cloud_cover</th>\n      <th>total_precipitation</th>\n      <th>windspeed_10m</th>\n    </tr>\n  </thead>\n  <tbody>\n    <tr>\n      <th>count</th>\n      <td>38827.000000</td>\n      <td>38827.000000</td>\n      <td>38827.000000</td>\n      <td>38827.000000</td>\n    </tr>\n    <tr>\n      <th>mean</th>\n      <td>289.486767</td>\n      <td>0.484524</td>\n      <td>0.000070</td>\n      <td>2.998598</td>\n    </tr>\n    <tr>\n      <th>std</th>\n      <td>6.001140</td>\n      <td>0.365584</td>\n      <td>0.000340</td>\n      <td>1.866365</td>\n    </tr>\n    <tr>\n      <th>min</th>\n      <td>275.262695</td>\n      <td>0.000000</td>\n      <td>0.000000</td>\n      <td>0.028852</td>\n    </tr>\n    <tr>\n      <th>25%</th>\n      <td>284.717856</td>\n      <td>0.114564</td>\n      <td>0.000000</td>\n      <td>1.695508</td>\n    </tr>\n    <tr>\n      <th>50%</th>\n      <td>288.661514</td>\n      <td>0.461168</td>\n      <td>0.000000</td>\n      <td>2.570017</td>\n    </tr>\n    <tr>\n      <th>75%</th>\n      <td>294.533142</td>\n      <td>0.862882</td>\n      <td>0.000009</td>\n      <td>3.879280</td>\n    </tr>\n    <tr>\n      <th>max</th>\n      <td>305.884277</td>\n      <td>1.000004</td>\n      <td>0.010371</td>\n      <td>15.273021</td>\n    </tr>\n  </tbody>\n</table>\n</div>"
     },
     "execution_count": 15,
     "metadata": {},
     "output_type": "execute_result"
    }
   ],
   "source": [
    "df.describe()"
   ],
   "metadata": {
    "collapsed": false,
    "ExecuteTime": {
     "end_time": "2023-06-19T17:29:47.548417Z",
     "start_time": "2023-06-19T17:29:47.523144Z"
    }
   }
  },
  {
   "cell_type": "code",
   "execution_count": 17,
   "outputs": [],
   "source": [
    "df = df.assign(\n",
    "    year=df.time.dt.year,\n",
    "    month=df.time.dt.month,\n",
    "    day=df.time.dt.day,\n",
    "    hour=df.time.dt.hour\n",
    ")"
   ],
   "metadata": {
    "collapsed": false,
    "ExecuteTime": {
     "end_time": "2023-06-19T17:31:36.892732Z",
     "start_time": "2023-06-19T17:31:36.871781Z"
    }
   }
  },
  {
   "cell_type": "code",
   "execution_count": 23,
   "outputs": [
    {
     "data": {
      "text/plain": "      time  temperature_2m  total_cloud_cover  total_precipitation  \\\nyear                                                                 \n2019  8760            8760               8760                 8760   \n2020  8784            8784               8784                 8784   \n2021  8760            8760               8760                 8760   \n2022  8760            8760               8760                 8760   \n2023  3763            3763               3763                 3763   \n\n      windspeed_10m  month   day  hour  \nyear                                    \n2019           8760   8760  8760  8760  \n2020           8784   8784  8784  8784  \n2021           8760   8760  8760  8760  \n2022           8760   8760  8760  8760  \n2023           3763   3763  3763  3763  ",
      "text/html": "<div>\n<style scoped>\n    .dataframe tbody tr th:only-of-type {\n        vertical-align: middle;\n    }\n\n    .dataframe tbody tr th {\n        vertical-align: top;\n    }\n\n    .dataframe thead th {\n        text-align: right;\n    }\n</style>\n<table border=\"1\" class=\"dataframe\">\n  <thead>\n    <tr style=\"text-align: right;\">\n      <th></th>\n      <th>time</th>\n      <th>temperature_2m</th>\n      <th>total_cloud_cover</th>\n      <th>total_precipitation</th>\n      <th>windspeed_10m</th>\n      <th>month</th>\n      <th>day</th>\n      <th>hour</th>\n    </tr>\n    <tr>\n      <th>year</th>\n      <th></th>\n      <th></th>\n      <th></th>\n      <th></th>\n      <th></th>\n      <th></th>\n      <th></th>\n      <th></th>\n    </tr>\n  </thead>\n  <tbody>\n    <tr>\n      <th>2019</th>\n      <td>8760</td>\n      <td>8760</td>\n      <td>8760</td>\n      <td>8760</td>\n      <td>8760</td>\n      <td>8760</td>\n      <td>8760</td>\n      <td>8760</td>\n    </tr>\n    <tr>\n      <th>2020</th>\n      <td>8784</td>\n      <td>8784</td>\n      <td>8784</td>\n      <td>8784</td>\n      <td>8784</td>\n      <td>8784</td>\n      <td>8784</td>\n      <td>8784</td>\n    </tr>\n    <tr>\n      <th>2021</th>\n      <td>8760</td>\n      <td>8760</td>\n      <td>8760</td>\n      <td>8760</td>\n      <td>8760</td>\n      <td>8760</td>\n      <td>8760</td>\n      <td>8760</td>\n    </tr>\n    <tr>\n      <th>2022</th>\n      <td>8760</td>\n      <td>8760</td>\n      <td>8760</td>\n      <td>8760</td>\n      <td>8760</td>\n      <td>8760</td>\n      <td>8760</td>\n      <td>8760</td>\n    </tr>\n    <tr>\n      <th>2023</th>\n      <td>3763</td>\n      <td>3763</td>\n      <td>3763</td>\n      <td>3763</td>\n      <td>3763</td>\n      <td>3763</td>\n      <td>3763</td>\n      <td>3763</td>\n    </tr>\n  </tbody>\n</table>\n</div>"
     },
     "execution_count": 23,
     "metadata": {},
     "output_type": "execute_result"
    }
   ],
   "source": [
    "df.groupby(by=['year']).count()"
   ],
   "metadata": {
    "collapsed": false,
    "ExecuteTime": {
     "end_time": "2023-06-19T17:43:59.026009Z",
     "start_time": "2023-06-19T17:43:58.997152Z"
    }
   }
  }
 ],
 "metadata": {
  "kernelspec": {
   "display_name": "Python 3",
   "language": "python",
   "name": "python3"
  },
  "language_info": {
   "codemirror_mode": {
    "name": "ipython",
    "version": 2
   },
   "file_extension": ".py",
   "mimetype": "text/x-python",
   "name": "python",
   "nbconvert_exporter": "python",
   "pygments_lexer": "ipython2",
   "version": "2.7.6"
  }
 },
 "nbformat": 4,
 "nbformat_minor": 0
}
