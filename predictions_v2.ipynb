{
 "cells": [
  {
   "cell_type": "code",
   "execution_count": 26,
   "metadata": {
    "collapsed": true,
    "ExecuteTime": {
     "end_time": "2023-06-23T16:57:06.547757Z",
     "start_time": "2023-06-23T16:57:06.430766Z"
    }
   },
   "outputs": [],
   "source": [
    "import seaborn as sns\n",
    "from matplotlib import pyplot as plt\n",
    "import pandas as pd\n",
    "\n",
    "import pathlib\n"
   ]
  },
  {
   "cell_type": "markdown",
   "source": [
    "# Load Data"
   ],
   "metadata": {
    "collapsed": false
   }
  },
  {
   "cell_type": "code",
   "execution_count": 27,
   "outputs": [],
   "source": [
    "data_folders = [\n",
    "    pathlib.Path(f'./data/bicing/truncated/{y}') for y in [2022]\n",
    "]"
   ],
   "metadata": {
    "collapsed": false,
    "ExecuteTime": {
     "end_time": "2023-06-23T16:57:06.894097Z",
     "start_time": "2023-06-23T16:57:06.455679Z"
    }
   }
  },
  {
   "cell_type": "code",
   "execution_count": 28,
   "outputs": [],
   "source": [
    "pandas_kwargs = {\n",
    "    'index_col': 0,\n",
    "}\n",
    "df = pd.concat([pd.read_csv(file, **pandas_kwargs) for data_folder in data_folders for file in\n",
    "                data_folder.glob('*/*.csv')]).drop_duplicates()"
   ],
   "metadata": {
    "collapsed": false,
    "ExecuteTime": {
     "end_time": "2023-06-23T16:57:16.130193Z",
     "start_time": "2023-06-23T16:57:06.464742Z"
    }
   }
  },
  {
   "cell_type": "code",
   "execution_count": 29,
   "outputs": [],
   "source": [
    "df = df.assign(\n",
    "    datetime=lambda x: pd.to_datetime(x.datetime),\n",
    "    percentage_docks_available=df.num_docks_available / (df.num_docks_available + df.num_bikes_available),\n",
    ").drop(columns=['num_docks_available', 'num_bikes_available']).sort_values(['station_id', 'datetime'])"
   ],
   "metadata": {
    "collapsed": false,
    "ExecuteTime": {
     "end_time": "2023-06-23T16:57:23.042738Z",
     "start_time": "2023-06-23T16:57:16.149929Z"
    }
   }
  },
  {
   "cell_type": "code",
   "execution_count": 30,
   "outputs": [
    {
     "data": {
      "text/plain": "        station_id            datetime  year  month  day  hour  \\\n726              1 2022-01-01 00:00:00  2022      1    1     0   \n1                1 2022-01-01 00:00:00  2022      1    1     0   \n2                1 2022-01-01 01:00:00  2022      1    1     1   \n3                1 2022-01-01 02:00:00  2022      1    1     2   \n4                1 2022-01-01 03:00:00  2022      1    1     3   \n...            ...                 ...   ...    ...  ...   ...   \n362884         532 2022-11-13 04:00:00  2022     11   13     4   \n362885         532 2022-11-13 05:00:00  2022     11   13     5   \n362886         532 2022-11-13 06:00:00  2022     11   13     6   \n362887         532 2022-11-13 07:00:00  2022     11   13     7   \n362888         532 2022-11-13 08:00:00  2022     11   13     8   \n\n        percentage_docks_available  \n726                       0.608696  \n1                         0.625000  \n2                         0.681818  \n3                         0.722826  \n4                         0.737458  \n...                            ...  \n362884                    0.000000  \n362885                    0.000000  \n362886                    0.000000  \n362887                    0.000000  \n362888                    0.000000  \n\n[4433476 rows x 7 columns]",
      "text/html": "<div>\n<style scoped>\n    .dataframe tbody tr th:only-of-type {\n        vertical-align: middle;\n    }\n\n    .dataframe tbody tr th {\n        vertical-align: top;\n    }\n\n    .dataframe thead th {\n        text-align: right;\n    }\n</style>\n<table border=\"1\" class=\"dataframe\">\n  <thead>\n    <tr style=\"text-align: right;\">\n      <th></th>\n      <th>station_id</th>\n      <th>datetime</th>\n      <th>year</th>\n      <th>month</th>\n      <th>day</th>\n      <th>hour</th>\n      <th>percentage_docks_available</th>\n    </tr>\n  </thead>\n  <tbody>\n    <tr>\n      <th>726</th>\n      <td>1</td>\n      <td>2022-01-01 00:00:00</td>\n      <td>2022</td>\n      <td>1</td>\n      <td>1</td>\n      <td>0</td>\n      <td>0.608696</td>\n    </tr>\n    <tr>\n      <th>1</th>\n      <td>1</td>\n      <td>2022-01-01 00:00:00</td>\n      <td>2022</td>\n      <td>1</td>\n      <td>1</td>\n      <td>0</td>\n      <td>0.625000</td>\n    </tr>\n    <tr>\n      <th>2</th>\n      <td>1</td>\n      <td>2022-01-01 01:00:00</td>\n      <td>2022</td>\n      <td>1</td>\n      <td>1</td>\n      <td>1</td>\n      <td>0.681818</td>\n    </tr>\n    <tr>\n      <th>3</th>\n      <td>1</td>\n      <td>2022-01-01 02:00:00</td>\n      <td>2022</td>\n      <td>1</td>\n      <td>1</td>\n      <td>2</td>\n      <td>0.722826</td>\n    </tr>\n    <tr>\n      <th>4</th>\n      <td>1</td>\n      <td>2022-01-01 03:00:00</td>\n      <td>2022</td>\n      <td>1</td>\n      <td>1</td>\n      <td>3</td>\n      <td>0.737458</td>\n    </tr>\n    <tr>\n      <th>...</th>\n      <td>...</td>\n      <td>...</td>\n      <td>...</td>\n      <td>...</td>\n      <td>...</td>\n      <td>...</td>\n      <td>...</td>\n    </tr>\n    <tr>\n      <th>362884</th>\n      <td>532</td>\n      <td>2022-11-13 04:00:00</td>\n      <td>2022</td>\n      <td>11</td>\n      <td>13</td>\n      <td>4</td>\n      <td>0.000000</td>\n    </tr>\n    <tr>\n      <th>362885</th>\n      <td>532</td>\n      <td>2022-11-13 05:00:00</td>\n      <td>2022</td>\n      <td>11</td>\n      <td>13</td>\n      <td>5</td>\n      <td>0.000000</td>\n    </tr>\n    <tr>\n      <th>362886</th>\n      <td>532</td>\n      <td>2022-11-13 06:00:00</td>\n      <td>2022</td>\n      <td>11</td>\n      <td>13</td>\n      <td>6</td>\n      <td>0.000000</td>\n    </tr>\n    <tr>\n      <th>362887</th>\n      <td>532</td>\n      <td>2022-11-13 07:00:00</td>\n      <td>2022</td>\n      <td>11</td>\n      <td>13</td>\n      <td>7</td>\n      <td>0.000000</td>\n    </tr>\n    <tr>\n      <th>362888</th>\n      <td>532</td>\n      <td>2022-11-13 08:00:00</td>\n      <td>2022</td>\n      <td>11</td>\n      <td>13</td>\n      <td>8</td>\n      <td>0.000000</td>\n    </tr>\n  </tbody>\n</table>\n<p>4433476 rows × 7 columns</p>\n</div>"
     },
     "execution_count": 30,
     "metadata": {},
     "output_type": "execute_result"
    }
   ],
   "source": [
    "df"
   ],
   "metadata": {
    "collapsed": false,
    "ExecuteTime": {
     "end_time": "2023-06-23T16:57:23.140246Z",
     "start_time": "2023-06-23T16:57:23.046791Z"
    }
   }
  },
  {
   "cell_type": "markdown",
   "source": [
    "### Add station info"
   ],
   "metadata": {
    "collapsed": false
   }
  },
  {
   "cell_type": "code",
   "execution_count": 31,
   "outputs": [
    {
     "data": {
      "text/plain": "   station_id            datetime  year  month  day  hour  \\\n0           1 2022-01-01 00:00:00  2022      1    1     0   \n1           1 2022-01-01 00:00:00  2022      1    1     0   \n2           1 2022-01-01 01:00:00  2022      1    1     1   \n3           1 2022-01-01 02:00:00  2022      1    1     2   \n4           1 2022-01-01 03:00:00  2022      1    1     3   \n\n   percentage_docks_available        lat       lon  altitude  post_code  \n0                    0.608696  41.397978  2.180107        16       8013  \n1                    0.625000  41.397978  2.180107        16       8013  \n2                    0.681818  41.397978  2.180107        16       8013  \n3                    0.722826  41.397978  2.180107        16       8013  \n4                    0.737458  41.397978  2.180107        16       8013  ",
      "text/html": "<div>\n<style scoped>\n    .dataframe tbody tr th:only-of-type {\n        vertical-align: middle;\n    }\n\n    .dataframe tbody tr th {\n        vertical-align: top;\n    }\n\n    .dataframe thead th {\n        text-align: right;\n    }\n</style>\n<table border=\"1\" class=\"dataframe\">\n  <thead>\n    <tr style=\"text-align: right;\">\n      <th></th>\n      <th>station_id</th>\n      <th>datetime</th>\n      <th>year</th>\n      <th>month</th>\n      <th>day</th>\n      <th>hour</th>\n      <th>percentage_docks_available</th>\n      <th>lat</th>\n      <th>lon</th>\n      <th>altitude</th>\n      <th>post_code</th>\n    </tr>\n  </thead>\n  <tbody>\n    <tr>\n      <th>0</th>\n      <td>1</td>\n      <td>2022-01-01 00:00:00</td>\n      <td>2022</td>\n      <td>1</td>\n      <td>1</td>\n      <td>0</td>\n      <td>0.608696</td>\n      <td>41.397978</td>\n      <td>2.180107</td>\n      <td>16</td>\n      <td>8013</td>\n    </tr>\n    <tr>\n      <th>1</th>\n      <td>1</td>\n      <td>2022-01-01 00:00:00</td>\n      <td>2022</td>\n      <td>1</td>\n      <td>1</td>\n      <td>0</td>\n      <td>0.625000</td>\n      <td>41.397978</td>\n      <td>2.180107</td>\n      <td>16</td>\n      <td>8013</td>\n    </tr>\n    <tr>\n      <th>2</th>\n      <td>1</td>\n      <td>2022-01-01 01:00:00</td>\n      <td>2022</td>\n      <td>1</td>\n      <td>1</td>\n      <td>1</td>\n      <td>0.681818</td>\n      <td>41.397978</td>\n      <td>2.180107</td>\n      <td>16</td>\n      <td>8013</td>\n    </tr>\n    <tr>\n      <th>3</th>\n      <td>1</td>\n      <td>2022-01-01 02:00:00</td>\n      <td>2022</td>\n      <td>1</td>\n      <td>1</td>\n      <td>2</td>\n      <td>0.722826</td>\n      <td>41.397978</td>\n      <td>2.180107</td>\n      <td>16</td>\n      <td>8013</td>\n    </tr>\n    <tr>\n      <th>4</th>\n      <td>1</td>\n      <td>2022-01-01 03:00:00</td>\n      <td>2022</td>\n      <td>1</td>\n      <td>1</td>\n      <td>3</td>\n      <td>0.737458</td>\n      <td>41.397978</td>\n      <td>2.180107</td>\n      <td>16</td>\n      <td>8013</td>\n    </tr>\n  </tbody>\n</table>\n</div>"
     },
     "execution_count": 31,
     "metadata": {},
     "output_type": "execute_result"
    }
   ],
   "source": [
    "station_info = pd.read_csv('./data/bicing_info.csv')\n",
    "df = pd.merge(left=df, right=station_info[['station_id', 'lat', 'lon', 'altitude', 'post_code']],\n",
    "              on=['station_id'])\n",
    "df.head()"
   ],
   "metadata": {
    "collapsed": false,
    "ExecuteTime": {
     "end_time": "2023-06-23T16:57:25.509194Z",
     "start_time": "2023-06-23T16:57:23.058371Z"
    }
   }
  },
  {
   "cell_type": "markdown",
   "source": [
    "### climate"
   ],
   "metadata": {
    "collapsed": false
   }
  },
  {
   "cell_type": "code",
   "execution_count": 32,
   "outputs": [],
   "source": [
    "df_climate_ = pd.read_csv('./data/clima.csv', parse_dates=['time'])\n",
    "\n",
    "df_climate = df_climate_.assign(\n",
    "    year=df_climate_.time.dt.year,\n",
    "    month=df_climate_.time.dt.month,\n",
    "    day=df_climate_.time.dt.day,\n",
    "    hour=df_climate_.time.dt.hour\n",
    ")\n",
    "df = pd.merge(left=df, right=df_climate.drop(columns=['time']), on=['hour', 'day', 'month', 'year'])"
   ],
   "metadata": {
    "collapsed": false,
    "ExecuteTime": {
     "end_time": "2023-06-23T16:57:28.441871Z",
     "start_time": "2023-06-23T16:57:25.514188Z"
    }
   }
  },
  {
   "cell_type": "code",
   "execution_count": 33,
   "outputs": [
    {
     "data": {
      "text/plain": "         station_id            datetime  year  month  day  hour  \\\n0                 1 2022-01-01 00:00:00  2022      1    1     0   \n1                 1 2022-01-01 00:00:00  2022      1    1     0   \n2                 2 2022-01-01 00:00:00  2022      1    1     0   \n3                 2 2022-01-01 00:00:00  2022      1    1     0   \n4                 3 2022-01-01 00:00:00  2022      1    1     0   \n...             ...                 ...   ...    ...  ...   ...   \n4419981         515 2022-01-13 11:00:00  2022      1   13    11   \n4419982         516 2022-01-13 11:00:00  2022      1   13    11   \n4419983         517 2022-01-13 11:00:00  2022      1   13    11   \n4419984         518 2022-01-13 11:00:00  2022      1   13    11   \n4419985         519 2022-01-13 11:00:00  2022      1   13    11   \n\n         percentage_docks_available        lat       lon  altitude  post_code  \\\n0                          0.608696  41.397978  2.180107        16       8013   \n1                          0.625000  41.397978  2.180107        16       8013   \n2                          0.356322  41.395488  2.177198        17       8013   \n3                          0.364943  41.395488  2.177198        17       8013   \n4                          0.555556  41.394156  2.181331        11       8013   \n...                             ...        ...       ...       ...        ...   \n4419981                    0.971429  41.435207  2.194800        19       8030   \n4419982                    0.250000  41.435460  2.200157        15       8030   \n4419983                    0.300000  41.462095  2.178959        44       8033   \n4419984                    1.000000  41.424689  2.157049       112       8032   \n4419985                    0.946970  41.424655  2.166289       110       8032   \n\n         temperature_2m  total_cloud_cover  total_precipitation  windspeed_10m  \n0            282.597015           0.339310         4.111789e-07       2.181416  \n1            282.597015           0.339310         4.111789e-07       2.181416  \n2            282.597015           0.339310         4.111789e-07       2.181416  \n3            282.597015           0.339310         4.111789e-07       2.181416  \n4            282.597015           0.339310         4.111789e-07       2.181416  \n...                 ...                ...                  ...            ...  \n4419981      282.674469           0.007935         0.000000e+00       2.058891  \n4419982      282.674469           0.007935         0.000000e+00       2.058891  \n4419983      282.674469           0.007935         0.000000e+00       2.058891  \n4419984      282.674469           0.007935         0.000000e+00       2.058891  \n4419985      282.674469           0.007935         0.000000e+00       2.058891  \n\n[4419986 rows x 15 columns]",
      "text/html": "<div>\n<style scoped>\n    .dataframe tbody tr th:only-of-type {\n        vertical-align: middle;\n    }\n\n    .dataframe tbody tr th {\n        vertical-align: top;\n    }\n\n    .dataframe thead th {\n        text-align: right;\n    }\n</style>\n<table border=\"1\" class=\"dataframe\">\n  <thead>\n    <tr style=\"text-align: right;\">\n      <th></th>\n      <th>station_id</th>\n      <th>datetime</th>\n      <th>year</th>\n      <th>month</th>\n      <th>day</th>\n      <th>hour</th>\n      <th>percentage_docks_available</th>\n      <th>lat</th>\n      <th>lon</th>\n      <th>altitude</th>\n      <th>post_code</th>\n      <th>temperature_2m</th>\n      <th>total_cloud_cover</th>\n      <th>total_precipitation</th>\n      <th>windspeed_10m</th>\n    </tr>\n  </thead>\n  <tbody>\n    <tr>\n      <th>0</th>\n      <td>1</td>\n      <td>2022-01-01 00:00:00</td>\n      <td>2022</td>\n      <td>1</td>\n      <td>1</td>\n      <td>0</td>\n      <td>0.608696</td>\n      <td>41.397978</td>\n      <td>2.180107</td>\n      <td>16</td>\n      <td>8013</td>\n      <td>282.597015</td>\n      <td>0.339310</td>\n      <td>4.111789e-07</td>\n      <td>2.181416</td>\n    </tr>\n    <tr>\n      <th>1</th>\n      <td>1</td>\n      <td>2022-01-01 00:00:00</td>\n      <td>2022</td>\n      <td>1</td>\n      <td>1</td>\n      <td>0</td>\n      <td>0.625000</td>\n      <td>41.397978</td>\n      <td>2.180107</td>\n      <td>16</td>\n      <td>8013</td>\n      <td>282.597015</td>\n      <td>0.339310</td>\n      <td>4.111789e-07</td>\n      <td>2.181416</td>\n    </tr>\n    <tr>\n      <th>2</th>\n      <td>2</td>\n      <td>2022-01-01 00:00:00</td>\n      <td>2022</td>\n      <td>1</td>\n      <td>1</td>\n      <td>0</td>\n      <td>0.356322</td>\n      <td>41.395488</td>\n      <td>2.177198</td>\n      <td>17</td>\n      <td>8013</td>\n      <td>282.597015</td>\n      <td>0.339310</td>\n      <td>4.111789e-07</td>\n      <td>2.181416</td>\n    </tr>\n    <tr>\n      <th>3</th>\n      <td>2</td>\n      <td>2022-01-01 00:00:00</td>\n      <td>2022</td>\n      <td>1</td>\n      <td>1</td>\n      <td>0</td>\n      <td>0.364943</td>\n      <td>41.395488</td>\n      <td>2.177198</td>\n      <td>17</td>\n      <td>8013</td>\n      <td>282.597015</td>\n      <td>0.339310</td>\n      <td>4.111789e-07</td>\n      <td>2.181416</td>\n    </tr>\n    <tr>\n      <th>4</th>\n      <td>3</td>\n      <td>2022-01-01 00:00:00</td>\n      <td>2022</td>\n      <td>1</td>\n      <td>1</td>\n      <td>0</td>\n      <td>0.555556</td>\n      <td>41.394156</td>\n      <td>2.181331</td>\n      <td>11</td>\n      <td>8013</td>\n      <td>282.597015</td>\n      <td>0.339310</td>\n      <td>4.111789e-07</td>\n      <td>2.181416</td>\n    </tr>\n    <tr>\n      <th>...</th>\n      <td>...</td>\n      <td>...</td>\n      <td>...</td>\n      <td>...</td>\n      <td>...</td>\n      <td>...</td>\n      <td>...</td>\n      <td>...</td>\n      <td>...</td>\n      <td>...</td>\n      <td>...</td>\n      <td>...</td>\n      <td>...</td>\n      <td>...</td>\n      <td>...</td>\n    </tr>\n    <tr>\n      <th>4419981</th>\n      <td>515</td>\n      <td>2022-01-13 11:00:00</td>\n      <td>2022</td>\n      <td>1</td>\n      <td>13</td>\n      <td>11</td>\n      <td>0.971429</td>\n      <td>41.435207</td>\n      <td>2.194800</td>\n      <td>19</td>\n      <td>8030</td>\n      <td>282.674469</td>\n      <td>0.007935</td>\n      <td>0.000000e+00</td>\n      <td>2.058891</td>\n    </tr>\n    <tr>\n      <th>4419982</th>\n      <td>516</td>\n      <td>2022-01-13 11:00:00</td>\n      <td>2022</td>\n      <td>1</td>\n      <td>13</td>\n      <td>11</td>\n      <td>0.250000</td>\n      <td>41.435460</td>\n      <td>2.200157</td>\n      <td>15</td>\n      <td>8030</td>\n      <td>282.674469</td>\n      <td>0.007935</td>\n      <td>0.000000e+00</td>\n      <td>2.058891</td>\n    </tr>\n    <tr>\n      <th>4419983</th>\n      <td>517</td>\n      <td>2022-01-13 11:00:00</td>\n      <td>2022</td>\n      <td>1</td>\n      <td>13</td>\n      <td>11</td>\n      <td>0.300000</td>\n      <td>41.462095</td>\n      <td>2.178959</td>\n      <td>44</td>\n      <td>8033</td>\n      <td>282.674469</td>\n      <td>0.007935</td>\n      <td>0.000000e+00</td>\n      <td>2.058891</td>\n    </tr>\n    <tr>\n      <th>4419984</th>\n      <td>518</td>\n      <td>2022-01-13 11:00:00</td>\n      <td>2022</td>\n      <td>1</td>\n      <td>13</td>\n      <td>11</td>\n      <td>1.000000</td>\n      <td>41.424689</td>\n      <td>2.157049</td>\n      <td>112</td>\n      <td>8032</td>\n      <td>282.674469</td>\n      <td>0.007935</td>\n      <td>0.000000e+00</td>\n      <td>2.058891</td>\n    </tr>\n    <tr>\n      <th>4419985</th>\n      <td>519</td>\n      <td>2022-01-13 11:00:00</td>\n      <td>2022</td>\n      <td>1</td>\n      <td>13</td>\n      <td>11</td>\n      <td>0.946970</td>\n      <td>41.424655</td>\n      <td>2.166289</td>\n      <td>110</td>\n      <td>8032</td>\n      <td>282.674469</td>\n      <td>0.007935</td>\n      <td>0.000000e+00</td>\n      <td>2.058891</td>\n    </tr>\n  </tbody>\n</table>\n<p>4419986 rows × 15 columns</p>\n</div>"
     },
     "execution_count": 33,
     "metadata": {},
     "output_type": "execute_result"
    }
   ],
   "source": [
    "df"
   ],
   "metadata": {
    "collapsed": false,
    "ExecuteTime": {
     "end_time": "2023-06-23T16:57:28.542304Z",
     "start_time": "2023-06-23T16:57:28.463583Z"
    }
   }
  },
  {
   "cell_type": "code",
   "execution_count": 34,
   "outputs": [],
   "source": [
    "import numpy as np\n",
    "\n",
    "# merge with previous hours\n",
    "df = df.sort_values(['station_id', 'datetime']).assign(\n",
    "    day_of_week=lambda x: x.datetime.dt.day_of_week,\n",
    "    is_weekend=lambda x: x.day_of_week >= 5,\n",
    "    is_night=lambda x: np.bitwise_or(x.hour >= 20, x.hour <= 7),\n",
    "    is_work_morning=lambda x: np.bitwise_and(x.hour >= 6, x.hour <= 10) & np.bitwise_not(x.is_weekend),\n",
    "    is_summer=lambda x: x.month.between(6, 8),\n",
    "    ctx_1=lambda x: x.percentage_docks_available.shift(1),\n",
    "    ctx_2=lambda x: x.percentage_docks_available.shift(2),\n",
    "    ctx_3=lambda x: x.percentage_docks_available.shift(3),\n",
    "    ctx_4=lambda x: x.percentage_docks_available.shift(4),\n",
    "    station_id_aux=lambda x: x.station_id.shift(4),\n",
    "    altitude=lambda x: x.altitude.astype(int)\n",
    ")"
   ],
   "metadata": {
    "collapsed": false,
    "ExecuteTime": {
     "end_time": "2023-06-23T16:57:37.294565Z",
     "start_time": "2023-06-23T16:57:28.473881Z"
    }
   }
  },
  {
   "cell_type": "code",
   "execution_count": 35,
   "outputs": [],
   "source": [
    "df = df.query('not ctx_1.isnull()') \\\n",
    "    .query('not ctx_2.isnull()') \\\n",
    "    .query('not ctx_3.isnull()') \\\n",
    "    .query('not ctx_4.isnull()') \\\n",
    "    .query('station_id == station_id_aux') \\\n",
    "    .drop(columns=['station_id_aux']) \\\n",
    "    .query('not percentage_docks_available.isnull()')\n"
   ],
   "metadata": {
    "collapsed": false,
    "ExecuteTime": {
     "end_time": "2023-06-23T16:57:48.575324Z",
     "start_time": "2023-06-23T16:57:37.298426Z"
    }
   }
  },
  {
   "cell_type": "code",
   "execution_count": 36,
   "outputs": [],
   "source": [
    "dfnans = df.isna().sum()\n",
    "assert dfnans[dfnans > 0].empty"
   ],
   "metadata": {
    "collapsed": false,
    "ExecuteTime": {
     "end_time": "2023-06-23T16:57:48.810978Z",
     "start_time": "2023-06-23T16:57:48.587393Z"
    }
   }
  },
  {
   "cell_type": "code",
   "execution_count": 37,
   "outputs": [
    {
     "data": {
      "text/plain": "      station_id            datetime  year  month  day  hour  \\\n2020           1 2022-01-01 03:00:00  2022      1    1     3   \n2525           1 2022-01-01 04:00:00  2022      1    1     4   \n3030           1 2022-01-01 05:00:00  2022      1    1     5   \n3535           1 2022-01-01 06:00:00  2022      1    1     6   \n4040           1 2022-01-01 07:00:00  2022      1    1     7   \n\n      percentage_docks_available        lat       lon  altitude  ...  \\\n2020                    0.737458  41.397978  2.180107        16  ...   \n2525                    0.717391  41.397978  2.180107        16  ...   \n3030                    0.717391  41.397978  2.180107        16  ...   \n3535                    0.672101  41.397978  2.180107        16  ...   \n4040                    0.639706  41.397978  2.180107        16  ...   \n\n      windspeed_10m  day_of_week  is_weekend  is_night  is_work_morning  \\\n2020       2.155734            5        True      True            False   \n2525       2.059913            5        True      True            False   \n3030       1.985322            5        True      True            False   \n3535       1.993759            5        True      True            False   \n4040       2.046561            5        True      True            False   \n\n      is_summer     ctx_1     ctx_2     ctx_3     ctx_4  \n2020      False  0.722826  0.681818  0.625000  0.608696  \n2525      False  0.737458  0.722826  0.681818  0.625000  \n3030      False  0.717391  0.737458  0.722826  0.681818  \n3535      False  0.717391  0.717391  0.737458  0.722826  \n4040      False  0.672101  0.717391  0.717391  0.737458  \n\n[5 rows x 24 columns]",
      "text/html": "<div>\n<style scoped>\n    .dataframe tbody tr th:only-of-type {\n        vertical-align: middle;\n    }\n\n    .dataframe tbody tr th {\n        vertical-align: top;\n    }\n\n    .dataframe thead th {\n        text-align: right;\n    }\n</style>\n<table border=\"1\" class=\"dataframe\">\n  <thead>\n    <tr style=\"text-align: right;\">\n      <th></th>\n      <th>station_id</th>\n      <th>datetime</th>\n      <th>year</th>\n      <th>month</th>\n      <th>day</th>\n      <th>hour</th>\n      <th>percentage_docks_available</th>\n      <th>lat</th>\n      <th>lon</th>\n      <th>altitude</th>\n      <th>...</th>\n      <th>windspeed_10m</th>\n      <th>day_of_week</th>\n      <th>is_weekend</th>\n      <th>is_night</th>\n      <th>is_work_morning</th>\n      <th>is_summer</th>\n      <th>ctx_1</th>\n      <th>ctx_2</th>\n      <th>ctx_3</th>\n      <th>ctx_4</th>\n    </tr>\n  </thead>\n  <tbody>\n    <tr>\n      <th>2020</th>\n      <td>1</td>\n      <td>2022-01-01 03:00:00</td>\n      <td>2022</td>\n      <td>1</td>\n      <td>1</td>\n      <td>3</td>\n      <td>0.737458</td>\n      <td>41.397978</td>\n      <td>2.180107</td>\n      <td>16</td>\n      <td>...</td>\n      <td>2.155734</td>\n      <td>5</td>\n      <td>True</td>\n      <td>True</td>\n      <td>False</td>\n      <td>False</td>\n      <td>0.722826</td>\n      <td>0.681818</td>\n      <td>0.625000</td>\n      <td>0.608696</td>\n    </tr>\n    <tr>\n      <th>2525</th>\n      <td>1</td>\n      <td>2022-01-01 04:00:00</td>\n      <td>2022</td>\n      <td>1</td>\n      <td>1</td>\n      <td>4</td>\n      <td>0.717391</td>\n      <td>41.397978</td>\n      <td>2.180107</td>\n      <td>16</td>\n      <td>...</td>\n      <td>2.059913</td>\n      <td>5</td>\n      <td>True</td>\n      <td>True</td>\n      <td>False</td>\n      <td>False</td>\n      <td>0.737458</td>\n      <td>0.722826</td>\n      <td>0.681818</td>\n      <td>0.625000</td>\n    </tr>\n    <tr>\n      <th>3030</th>\n      <td>1</td>\n      <td>2022-01-01 05:00:00</td>\n      <td>2022</td>\n      <td>1</td>\n      <td>1</td>\n      <td>5</td>\n      <td>0.717391</td>\n      <td>41.397978</td>\n      <td>2.180107</td>\n      <td>16</td>\n      <td>...</td>\n      <td>1.985322</td>\n      <td>5</td>\n      <td>True</td>\n      <td>True</td>\n      <td>False</td>\n      <td>False</td>\n      <td>0.717391</td>\n      <td>0.737458</td>\n      <td>0.722826</td>\n      <td>0.681818</td>\n    </tr>\n    <tr>\n      <th>3535</th>\n      <td>1</td>\n      <td>2022-01-01 06:00:00</td>\n      <td>2022</td>\n      <td>1</td>\n      <td>1</td>\n      <td>6</td>\n      <td>0.672101</td>\n      <td>41.397978</td>\n      <td>2.180107</td>\n      <td>16</td>\n      <td>...</td>\n      <td>1.993759</td>\n      <td>5</td>\n      <td>True</td>\n      <td>True</td>\n      <td>False</td>\n      <td>False</td>\n      <td>0.717391</td>\n      <td>0.717391</td>\n      <td>0.737458</td>\n      <td>0.722826</td>\n    </tr>\n    <tr>\n      <th>4040</th>\n      <td>1</td>\n      <td>2022-01-01 07:00:00</td>\n      <td>2022</td>\n      <td>1</td>\n      <td>1</td>\n      <td>7</td>\n      <td>0.639706</td>\n      <td>41.397978</td>\n      <td>2.180107</td>\n      <td>16</td>\n      <td>...</td>\n      <td>2.046561</td>\n      <td>5</td>\n      <td>True</td>\n      <td>True</td>\n      <td>False</td>\n      <td>False</td>\n      <td>0.672101</td>\n      <td>0.717391</td>\n      <td>0.717391</td>\n      <td>0.737458</td>\n    </tr>\n  </tbody>\n</table>\n<p>5 rows × 24 columns</p>\n</div>"
     },
     "execution_count": 37,
     "metadata": {},
     "output_type": "execute_result"
    }
   ],
   "source": [
    "df.head()"
   ],
   "metadata": {
    "collapsed": false,
    "ExecuteTime": {
     "end_time": "2023-06-23T16:57:48.901918Z",
     "start_time": "2023-06-23T16:57:48.809466Z"
    }
   }
  },
  {
   "cell_type": "markdown",
   "source": [
    "# CV"
   ],
   "metadata": {
    "collapsed": false
   }
  },
  {
   "cell_type": "code",
   "execution_count": 38,
   "outputs": [],
   "source": [
    "from sklearn import model_selection, linear_model, ensemble, neighbors, preprocessing, metrics, pipeline, compose"
   ],
   "metadata": {
    "collapsed": false,
    "ExecuteTime": {
     "end_time": "2023-06-23T16:57:48.903151Z",
     "start_time": "2023-06-23T16:57:48.846572Z"
    }
   }
  },
  {
   "cell_type": "code",
   "execution_count": 39,
   "outputs": [],
   "source": [
    "# CrossValidation\n",
    "\n",
    "scoring = 'neg_root_mean_squared_error'\n",
    "\n",
    "\n",
    "def get_cv_scores(model, X: pd.DataFrame, y: pd.Series, verbose=0):\n",
    "    if verbose > 0: display(f'{X.shape=}')\n",
    "    if verbose > 0: display(f'{y.shape=}')\n",
    "\n",
    "    return model_selection.cross_val_score(\n",
    "        model, X, y,\n",
    "        scoring=scoring,\n",
    "        cv=model_selection.TimeSeriesSplit(5),\n",
    "        verbose=verbose,\n",
    "    )"
   ],
   "metadata": {
    "collapsed": false,
    "ExecuteTime": {
     "end_time": "2023-06-23T16:57:48.903524Z",
     "start_time": "2023-06-23T16:57:48.866937Z"
    }
   }
  },
  {
   "cell_type": "code",
   "execution_count": 40,
   "outputs": [
    {
     "data": {
      "text/plain": "Pipeline(steps=[('transformer',\n                 ColumnTransformer(transformers=[('bool',\n                                                  OneHotEncoder(handle_unknown='ignore'),\n                                                  ['is_weekend', 'is_summer',\n                                                   'is_night']),\n                                                 ('std', StandardScaler(),\n                                                  ['ctx_1', 'ctx_2', 'ctx_3',\n                                                   'ctx_4']),\n                                                 ('4bins',\n                                                  KBinsDiscretizer(n_bins=4),\n                                                  ['hour', 'month']),\n                                                 ('2bins',\n                                                  KBinsDiscretizer(n_bins=2),\n                                                  ['temperature_2m'])])),\n                ('regressor', LinearRegression())])",
      "text/html": "<style>#sk-container-id-3 {color: black;background-color: white;}#sk-container-id-3 pre{padding: 0;}#sk-container-id-3 div.sk-toggleable {background-color: white;}#sk-container-id-3 label.sk-toggleable__label {cursor: pointer;display: block;width: 100%;margin-bottom: 0;padding: 0.3em;box-sizing: border-box;text-align: center;}#sk-container-id-3 label.sk-toggleable__label-arrow:before {content: \"▸\";float: left;margin-right: 0.25em;color: #696969;}#sk-container-id-3 label.sk-toggleable__label-arrow:hover:before {color: black;}#sk-container-id-3 div.sk-estimator:hover label.sk-toggleable__label-arrow:before {color: black;}#sk-container-id-3 div.sk-toggleable__content {max-height: 0;max-width: 0;overflow: hidden;text-align: left;background-color: #f0f8ff;}#sk-container-id-3 div.sk-toggleable__content pre {margin: 0.2em;color: black;border-radius: 0.25em;background-color: #f0f8ff;}#sk-container-id-3 input.sk-toggleable__control:checked~div.sk-toggleable__content {max-height: 200px;max-width: 100%;overflow: auto;}#sk-container-id-3 input.sk-toggleable__control:checked~label.sk-toggleable__label-arrow:before {content: \"▾\";}#sk-container-id-3 div.sk-estimator input.sk-toggleable__control:checked~label.sk-toggleable__label {background-color: #d4ebff;}#sk-container-id-3 div.sk-label input.sk-toggleable__control:checked~label.sk-toggleable__label {background-color: #d4ebff;}#sk-container-id-3 input.sk-hidden--visually {border: 0;clip: rect(1px 1px 1px 1px);clip: rect(1px, 1px, 1px, 1px);height: 1px;margin: -1px;overflow: hidden;padding: 0;position: absolute;width: 1px;}#sk-container-id-3 div.sk-estimator {font-family: monospace;background-color: #f0f8ff;border: 1px dotted black;border-radius: 0.25em;box-sizing: border-box;margin-bottom: 0.5em;}#sk-container-id-3 div.sk-estimator:hover {background-color: #d4ebff;}#sk-container-id-3 div.sk-parallel-item::after {content: \"\";width: 100%;border-bottom: 1px solid gray;flex-grow: 1;}#sk-container-id-3 div.sk-label:hover label.sk-toggleable__label {background-color: #d4ebff;}#sk-container-id-3 div.sk-serial::before {content: \"\";position: absolute;border-left: 1px solid gray;box-sizing: border-box;top: 0;bottom: 0;left: 50%;z-index: 0;}#sk-container-id-3 div.sk-serial {display: flex;flex-direction: column;align-items: center;background-color: white;padding-right: 0.2em;padding-left: 0.2em;position: relative;}#sk-container-id-3 div.sk-item {position: relative;z-index: 1;}#sk-container-id-3 div.sk-parallel {display: flex;align-items: stretch;justify-content: center;background-color: white;position: relative;}#sk-container-id-3 div.sk-item::before, #sk-container-id-3 div.sk-parallel-item::before {content: \"\";position: absolute;border-left: 1px solid gray;box-sizing: border-box;top: 0;bottom: 0;left: 50%;z-index: -1;}#sk-container-id-3 div.sk-parallel-item {display: flex;flex-direction: column;z-index: 1;position: relative;background-color: white;}#sk-container-id-3 div.sk-parallel-item:first-child::after {align-self: flex-end;width: 50%;}#sk-container-id-3 div.sk-parallel-item:last-child::after {align-self: flex-start;width: 50%;}#sk-container-id-3 div.sk-parallel-item:only-child::after {width: 0;}#sk-container-id-3 div.sk-dashed-wrapped {border: 1px dashed gray;margin: 0 0.4em 0.5em 0.4em;box-sizing: border-box;padding-bottom: 0.4em;background-color: white;}#sk-container-id-3 div.sk-label label {font-family: monospace;font-weight: bold;display: inline-block;line-height: 1.2em;}#sk-container-id-3 div.sk-label-container {text-align: center;}#sk-container-id-3 div.sk-container {/* jupyter's `normalize.less` sets `[hidden] { display: none; }` but bootstrap.min.css set `[hidden] { display: none !important; }` so we also need the `!important` here to be able to override the default hidden behavior on the sphinx rendered scikit-learn.org. See: https://github.com/scikit-learn/scikit-learn/issues/21755 */display: inline-block !important;position: relative;}#sk-container-id-3 div.sk-text-repr-fallback {display: none;}</style><div id=\"sk-container-id-3\" class=\"sk-top-container\"><div class=\"sk-text-repr-fallback\"><pre>Pipeline(steps=[(&#x27;transformer&#x27;,\n                 ColumnTransformer(transformers=[(&#x27;bool&#x27;,\n                                                  OneHotEncoder(handle_unknown=&#x27;ignore&#x27;),\n                                                  [&#x27;is_weekend&#x27;, &#x27;is_summer&#x27;,\n                                                   &#x27;is_night&#x27;]),\n                                                 (&#x27;std&#x27;, StandardScaler(),\n                                                  [&#x27;ctx_1&#x27;, &#x27;ctx_2&#x27;, &#x27;ctx_3&#x27;,\n                                                   &#x27;ctx_4&#x27;]),\n                                                 (&#x27;4bins&#x27;,\n                                                  KBinsDiscretizer(n_bins=4),\n                                                  [&#x27;hour&#x27;, &#x27;month&#x27;]),\n                                                 (&#x27;2bins&#x27;,\n                                                  KBinsDiscretizer(n_bins=2),\n                                                  [&#x27;temperature_2m&#x27;])])),\n                (&#x27;regressor&#x27;, LinearRegression())])</pre><b>In a Jupyter environment, please rerun this cell to show the HTML representation or trust the notebook. <br />On GitHub, the HTML representation is unable to render, please try loading this page with nbviewer.org.</b></div><div class=\"sk-container\" hidden><div class=\"sk-item sk-dashed-wrapped\"><div class=\"sk-label-container\"><div class=\"sk-label sk-toggleable\"><input class=\"sk-toggleable__control sk-hidden--visually\" id=\"sk-estimator-id-19\" type=\"checkbox\" ><label for=\"sk-estimator-id-19\" class=\"sk-toggleable__label sk-toggleable__label-arrow\">Pipeline</label><div class=\"sk-toggleable__content\"><pre>Pipeline(steps=[(&#x27;transformer&#x27;,\n                 ColumnTransformer(transformers=[(&#x27;bool&#x27;,\n                                                  OneHotEncoder(handle_unknown=&#x27;ignore&#x27;),\n                                                  [&#x27;is_weekend&#x27;, &#x27;is_summer&#x27;,\n                                                   &#x27;is_night&#x27;]),\n                                                 (&#x27;std&#x27;, StandardScaler(),\n                                                  [&#x27;ctx_1&#x27;, &#x27;ctx_2&#x27;, &#x27;ctx_3&#x27;,\n                                                   &#x27;ctx_4&#x27;]),\n                                                 (&#x27;4bins&#x27;,\n                                                  KBinsDiscretizer(n_bins=4),\n                                                  [&#x27;hour&#x27;, &#x27;month&#x27;]),\n                                                 (&#x27;2bins&#x27;,\n                                                  KBinsDiscretizer(n_bins=2),\n                                                  [&#x27;temperature_2m&#x27;])])),\n                (&#x27;regressor&#x27;, LinearRegression())])</pre></div></div></div><div class=\"sk-serial\"><div class=\"sk-item sk-dashed-wrapped\"><div class=\"sk-label-container\"><div class=\"sk-label sk-toggleable\"><input class=\"sk-toggleable__control sk-hidden--visually\" id=\"sk-estimator-id-20\" type=\"checkbox\" ><label for=\"sk-estimator-id-20\" class=\"sk-toggleable__label sk-toggleable__label-arrow\">transformer: ColumnTransformer</label><div class=\"sk-toggleable__content\"><pre>ColumnTransformer(transformers=[(&#x27;bool&#x27;, OneHotEncoder(handle_unknown=&#x27;ignore&#x27;),\n                                 [&#x27;is_weekend&#x27;, &#x27;is_summer&#x27;, &#x27;is_night&#x27;]),\n                                (&#x27;std&#x27;, StandardScaler(),\n                                 [&#x27;ctx_1&#x27;, &#x27;ctx_2&#x27;, &#x27;ctx_3&#x27;, &#x27;ctx_4&#x27;]),\n                                (&#x27;4bins&#x27;, KBinsDiscretizer(n_bins=4),\n                                 [&#x27;hour&#x27;, &#x27;month&#x27;]),\n                                (&#x27;2bins&#x27;, KBinsDiscretizer(n_bins=2),\n                                 [&#x27;temperature_2m&#x27;])])</pre></div></div></div><div class=\"sk-parallel\"><div class=\"sk-parallel-item\"><div class=\"sk-item\"><div class=\"sk-label-container\"><div class=\"sk-label sk-toggleable\"><input class=\"sk-toggleable__control sk-hidden--visually\" id=\"sk-estimator-id-21\" type=\"checkbox\" ><label for=\"sk-estimator-id-21\" class=\"sk-toggleable__label sk-toggleable__label-arrow\">bool</label><div class=\"sk-toggleable__content\"><pre>[&#x27;is_weekend&#x27;, &#x27;is_summer&#x27;, &#x27;is_night&#x27;]</pre></div></div></div><div class=\"sk-serial\"><div class=\"sk-item\"><div class=\"sk-estimator sk-toggleable\"><input class=\"sk-toggleable__control sk-hidden--visually\" id=\"sk-estimator-id-22\" type=\"checkbox\" ><label for=\"sk-estimator-id-22\" class=\"sk-toggleable__label sk-toggleable__label-arrow\">OneHotEncoder</label><div class=\"sk-toggleable__content\"><pre>OneHotEncoder(handle_unknown=&#x27;ignore&#x27;)</pre></div></div></div></div></div></div><div class=\"sk-parallel-item\"><div class=\"sk-item\"><div class=\"sk-label-container\"><div class=\"sk-label sk-toggleable\"><input class=\"sk-toggleable__control sk-hidden--visually\" id=\"sk-estimator-id-23\" type=\"checkbox\" ><label for=\"sk-estimator-id-23\" class=\"sk-toggleable__label sk-toggleable__label-arrow\">std</label><div class=\"sk-toggleable__content\"><pre>[&#x27;ctx_1&#x27;, &#x27;ctx_2&#x27;, &#x27;ctx_3&#x27;, &#x27;ctx_4&#x27;]</pre></div></div></div><div class=\"sk-serial\"><div class=\"sk-item\"><div class=\"sk-estimator sk-toggleable\"><input class=\"sk-toggleable__control sk-hidden--visually\" id=\"sk-estimator-id-24\" type=\"checkbox\" ><label for=\"sk-estimator-id-24\" class=\"sk-toggleable__label sk-toggleable__label-arrow\">StandardScaler</label><div class=\"sk-toggleable__content\"><pre>StandardScaler()</pre></div></div></div></div></div></div><div class=\"sk-parallel-item\"><div class=\"sk-item\"><div class=\"sk-label-container\"><div class=\"sk-label sk-toggleable\"><input class=\"sk-toggleable__control sk-hidden--visually\" id=\"sk-estimator-id-25\" type=\"checkbox\" ><label for=\"sk-estimator-id-25\" class=\"sk-toggleable__label sk-toggleable__label-arrow\">4bins</label><div class=\"sk-toggleable__content\"><pre>[&#x27;hour&#x27;, &#x27;month&#x27;]</pre></div></div></div><div class=\"sk-serial\"><div class=\"sk-item\"><div class=\"sk-estimator sk-toggleable\"><input class=\"sk-toggleable__control sk-hidden--visually\" id=\"sk-estimator-id-26\" type=\"checkbox\" ><label for=\"sk-estimator-id-26\" class=\"sk-toggleable__label sk-toggleable__label-arrow\">KBinsDiscretizer</label><div class=\"sk-toggleable__content\"><pre>KBinsDiscretizer(n_bins=4)</pre></div></div></div></div></div></div><div class=\"sk-parallel-item\"><div class=\"sk-item\"><div class=\"sk-label-container\"><div class=\"sk-label sk-toggleable\"><input class=\"sk-toggleable__control sk-hidden--visually\" id=\"sk-estimator-id-27\" type=\"checkbox\" ><label for=\"sk-estimator-id-27\" class=\"sk-toggleable__label sk-toggleable__label-arrow\">2bins</label><div class=\"sk-toggleable__content\"><pre>[&#x27;temperature_2m&#x27;]</pre></div></div></div><div class=\"sk-serial\"><div class=\"sk-item\"><div class=\"sk-estimator sk-toggleable\"><input class=\"sk-toggleable__control sk-hidden--visually\" id=\"sk-estimator-id-28\" type=\"checkbox\" ><label for=\"sk-estimator-id-28\" class=\"sk-toggleable__label sk-toggleable__label-arrow\">KBinsDiscretizer</label><div class=\"sk-toggleable__content\"><pre>KBinsDiscretizer(n_bins=2)</pre></div></div></div></div></div></div></div></div><div class=\"sk-item\"><div class=\"sk-estimator sk-toggleable\"><input class=\"sk-toggleable__control sk-hidden--visually\" id=\"sk-estimator-id-29\" type=\"checkbox\" ><label for=\"sk-estimator-id-29\" class=\"sk-toggleable__label sk-toggleable__label-arrow\">LinearRegression</label><div class=\"sk-toggleable__content\"><pre>LinearRegression()</pre></div></div></div></div></div></div></div>"
     },
     "execution_count": 40,
     "metadata": {},
     "output_type": "execute_result"
    }
   ],
   "source": [
    "pipe = pipeline.Pipeline(\n",
    "    [\n",
    "        (\"transformer\", compose.ColumnTransformer(\n",
    "            [\n",
    "                ('bool', preprocessing.OneHotEncoder(handle_unknown=\"ignore\"), [\"is_weekend\", \"is_summer\", \"is_night\"]),\n",
    "                ('std', preprocessing.StandardScaler(), [f\"ctx_{ii + 1}\" for ii in range(4)]),\n",
    "                ('4bins', preprocessing.KBinsDiscretizer(n_bins=4, encode='onehot'), [\"hour\", \"month\"]),\n",
    "                ('2bins', preprocessing.KBinsDiscretizer(n_bins=2, encode='onehot'), [\"temperature_2m\"]),\n",
    "            ],\n",
    "            remainder=\"drop\")\n",
    "         ),\n",
    "        (\"regressor\", linear_model.LinearRegression())\n",
    "    ]\n",
    ")\n",
    "pipe"
   ],
   "metadata": {
    "collapsed": false,
    "ExecuteTime": {
     "end_time": "2023-06-23T16:57:49.077825Z",
     "start_time": "2023-06-23T16:57:48.915387Z"
    }
   }
  },
  {
   "cell_type": "code",
   "execution_count": 41,
   "outputs": [],
   "source": [
    "# final train\n",
    "Y_COLUMN = 'percentage_docks_available'"
   ],
   "metadata": {
    "collapsed": false,
    "ExecuteTime": {
     "end_time": "2023-06-23T16:57:49.078095Z",
     "start_time": "2023-06-23T16:57:48.942070Z"
    }
   }
  },
  {
   "cell_type": "code",
   "execution_count": 42,
   "outputs": [
    {
     "data": {
      "text/plain": "'X.shape=(4416884, 23)'"
     },
     "metadata": {},
     "output_type": "display_data"
    },
    {
     "data": {
      "text/plain": "'y.shape=(4416884,)'"
     },
     "metadata": {},
     "output_type": "display_data"
    },
    {
     "name": "stderr",
     "output_type": "stream",
     "text": [
      "[Parallel(n_jobs=1)]: Using backend SequentialBackend with 1 concurrent workers.\n",
      "/usr/local/Caskroom/miniconda/base/envs/py310/lib/python3.10/site-packages/sklearn/preprocessing/_discretization.py:209: FutureWarning: In version 1.3 onwards, subsample=2e5 will be used by default. Set subsample explicitly to silence this warning in the mean time. Set subsample=None to disable subsampling explicitly.\n",
      "  warnings.warn(\n",
      "/usr/local/Caskroom/miniconda/base/envs/py310/lib/python3.10/site-packages/sklearn/preprocessing/_discretization.py:209: FutureWarning: In version 1.3 onwards, subsample=2e5 will be used by default. Set subsample explicitly to silence this warning in the mean time. Set subsample=None to disable subsampling explicitly.\n",
      "  warnings.warn(\n"
     ]
    },
    {
     "name": "stdout",
     "output_type": "stream",
     "text": [
      "[CV] END ............................... score: (test=-0.125) total time=   4.0s\n"
     ]
    },
    {
     "name": "stderr",
     "output_type": "stream",
     "text": [
      "[Parallel(n_jobs=1)]: Done   1 out of   1 | elapsed:    4.1s remaining:    0.0s\n",
      "/usr/local/Caskroom/miniconda/base/envs/py310/lib/python3.10/site-packages/sklearn/preprocessing/_discretization.py:209: FutureWarning: In version 1.3 onwards, subsample=2e5 will be used by default. Set subsample explicitly to silence this warning in the mean time. Set subsample=None to disable subsampling explicitly.\n",
      "  warnings.warn(\n",
      "/usr/local/Caskroom/miniconda/base/envs/py310/lib/python3.10/site-packages/sklearn/preprocessing/_discretization.py:209: FutureWarning: In version 1.3 onwards, subsample=2e5 will be used by default. Set subsample explicitly to silence this warning in the mean time. Set subsample=None to disable subsampling explicitly.\n",
      "  warnings.warn(\n"
     ]
    },
    {
     "name": "stdout",
     "output_type": "stream",
     "text": [
      "[CV] END ............................... score: (test=-0.116) total time=   5.0s\n"
     ]
    },
    {
     "name": "stderr",
     "output_type": "stream",
     "text": [
      "[Parallel(n_jobs=1)]: Done   2 out of   2 | elapsed:    9.1s remaining:    0.0s\n",
      "/usr/local/Caskroom/miniconda/base/envs/py310/lib/python3.10/site-packages/sklearn/preprocessing/_discretization.py:209: FutureWarning: In version 1.3 onwards, subsample=2e5 will be used by default. Set subsample explicitly to silence this warning in the mean time. Set subsample=None to disable subsampling explicitly.\n",
      "  warnings.warn(\n",
      "/usr/local/Caskroom/miniconda/base/envs/py310/lib/python3.10/site-packages/sklearn/preprocessing/_discretization.py:209: FutureWarning: In version 1.3 onwards, subsample=2e5 will be used by default. Set subsample explicitly to silence this warning in the mean time. Set subsample=None to disable subsampling explicitly.\n",
      "  warnings.warn(\n"
     ]
    },
    {
     "name": "stdout",
     "output_type": "stream",
     "text": [
      "[CV] END ............................... score: (test=-0.099) total time=   7.6s\n"
     ]
    },
    {
     "name": "stderr",
     "output_type": "stream",
     "text": [
      "/usr/local/Caskroom/miniconda/base/envs/py310/lib/python3.10/site-packages/sklearn/preprocessing/_discretization.py:209: FutureWarning: In version 1.3 onwards, subsample=2e5 will be used by default. Set subsample explicitly to silence this warning in the mean time. Set subsample=None to disable subsampling explicitly.\n",
      "  warnings.warn(\n",
      "/usr/local/Caskroom/miniconda/base/envs/py310/lib/python3.10/site-packages/sklearn/preprocessing/_discretization.py:209: FutureWarning: In version 1.3 onwards, subsample=2e5 will be used by default. Set subsample explicitly to silence this warning in the mean time. Set subsample=None to disable subsampling explicitly.\n",
      "  warnings.warn(\n"
     ]
    },
    {
     "name": "stdout",
     "output_type": "stream",
     "text": [
      "[CV] END ............................... score: (test=-0.119) total time=   9.8s\n"
     ]
    },
    {
     "name": "stderr",
     "output_type": "stream",
     "text": [
      "/usr/local/Caskroom/miniconda/base/envs/py310/lib/python3.10/site-packages/sklearn/preprocessing/_discretization.py:209: FutureWarning: In version 1.3 onwards, subsample=2e5 will be used by default. Set subsample explicitly to silence this warning in the mean time. Set subsample=None to disable subsampling explicitly.\n",
      "  warnings.warn(\n",
      "/usr/local/Caskroom/miniconda/base/envs/py310/lib/python3.10/site-packages/sklearn/preprocessing/_discretization.py:209: FutureWarning: In version 1.3 onwards, subsample=2e5 will be used by default. Set subsample explicitly to silence this warning in the mean time. Set subsample=None to disable subsampling explicitly.\n",
      "  warnings.warn(\n"
     ]
    },
    {
     "name": "stdout",
     "output_type": "stream",
     "text": [
      "[CV] END ............................... score: (test=-0.100) total time=  10.9s\n"
     ]
    },
    {
     "name": "stderr",
     "output_type": "stream",
     "text": [
      "[Parallel(n_jobs=1)]: Done   5 out of   5 | elapsed:   37.7s finished\n"
     ]
    },
    {
     "data": {
      "text/plain": "array([-0.12541932, -0.11604383, -0.09883015, -0.11936493, -0.09962058])"
     },
     "execution_count": 42,
     "metadata": {},
     "output_type": "execute_result"
    }
   ],
   "source": [
    "get_cv_scores(pipe, df.drop(columns=[Y_COLUMN]), df[Y_COLUMN], verbose=3)"
   ],
   "metadata": {
    "collapsed": false,
    "ExecuteTime": {
     "end_time": "2023-06-23T16:58:27.519670Z",
     "start_time": "2023-06-23T16:57:49.212177Z"
    }
   }
  },
  {
   "cell_type": "code",
   "execution_count": 43,
   "outputs": [
    {
     "name": "stderr",
     "output_type": "stream",
     "text": [
      "/usr/local/Caskroom/miniconda/base/envs/py310/lib/python3.10/site-packages/sklearn/preprocessing/_discretization.py:209: FutureWarning: In version 1.3 onwards, subsample=2e5 will be used by default. Set subsample explicitly to silence this warning in the mean time. Set subsample=None to disable subsampling explicitly.\n",
      "  warnings.warn(\n",
      "/usr/local/Caskroom/miniconda/base/envs/py310/lib/python3.10/site-packages/sklearn/preprocessing/_discretization.py:209: FutureWarning: In version 1.3 onwards, subsample=2e5 will be used by default. Set subsample explicitly to silence this warning in the mean time. Set subsample=None to disable subsampling explicitly.\n",
      "  warnings.warn(\n"
     ]
    },
    {
     "data": {
      "text/plain": "Pipeline(steps=[('transformer',\n                 ColumnTransformer(transformers=[('bool',\n                                                  OneHotEncoder(handle_unknown='ignore'),\n                                                  ['is_weekend', 'is_summer',\n                                                   'is_night']),\n                                                 ('std', StandardScaler(),\n                                                  ['ctx_1', 'ctx_2', 'ctx_3',\n                                                   'ctx_4']),\n                                                 ('4bins',\n                                                  KBinsDiscretizer(n_bins=4),\n                                                  ['hour', 'month']),\n                                                 ('2bins',\n                                                  KBinsDiscretizer(n_bins=2),\n                                                  ['temperature_2m'])])),\n                ('regressor', LinearRegression())])",
      "text/html": "<style>#sk-container-id-4 {color: black;background-color: white;}#sk-container-id-4 pre{padding: 0;}#sk-container-id-4 div.sk-toggleable {background-color: white;}#sk-container-id-4 label.sk-toggleable__label {cursor: pointer;display: block;width: 100%;margin-bottom: 0;padding: 0.3em;box-sizing: border-box;text-align: center;}#sk-container-id-4 label.sk-toggleable__label-arrow:before {content: \"▸\";float: left;margin-right: 0.25em;color: #696969;}#sk-container-id-4 label.sk-toggleable__label-arrow:hover:before {color: black;}#sk-container-id-4 div.sk-estimator:hover label.sk-toggleable__label-arrow:before {color: black;}#sk-container-id-4 div.sk-toggleable__content {max-height: 0;max-width: 0;overflow: hidden;text-align: left;background-color: #f0f8ff;}#sk-container-id-4 div.sk-toggleable__content pre {margin: 0.2em;color: black;border-radius: 0.25em;background-color: #f0f8ff;}#sk-container-id-4 input.sk-toggleable__control:checked~div.sk-toggleable__content {max-height: 200px;max-width: 100%;overflow: auto;}#sk-container-id-4 input.sk-toggleable__control:checked~label.sk-toggleable__label-arrow:before {content: \"▾\";}#sk-container-id-4 div.sk-estimator input.sk-toggleable__control:checked~label.sk-toggleable__label {background-color: #d4ebff;}#sk-container-id-4 div.sk-label input.sk-toggleable__control:checked~label.sk-toggleable__label {background-color: #d4ebff;}#sk-container-id-4 input.sk-hidden--visually {border: 0;clip: rect(1px 1px 1px 1px);clip: rect(1px, 1px, 1px, 1px);height: 1px;margin: -1px;overflow: hidden;padding: 0;position: absolute;width: 1px;}#sk-container-id-4 div.sk-estimator {font-family: monospace;background-color: #f0f8ff;border: 1px dotted black;border-radius: 0.25em;box-sizing: border-box;margin-bottom: 0.5em;}#sk-container-id-4 div.sk-estimator:hover {background-color: #d4ebff;}#sk-container-id-4 div.sk-parallel-item::after {content: \"\";width: 100%;border-bottom: 1px solid gray;flex-grow: 1;}#sk-container-id-4 div.sk-label:hover label.sk-toggleable__label {background-color: #d4ebff;}#sk-container-id-4 div.sk-serial::before {content: \"\";position: absolute;border-left: 1px solid gray;box-sizing: border-box;top: 0;bottom: 0;left: 50%;z-index: 0;}#sk-container-id-4 div.sk-serial {display: flex;flex-direction: column;align-items: center;background-color: white;padding-right: 0.2em;padding-left: 0.2em;position: relative;}#sk-container-id-4 div.sk-item {position: relative;z-index: 1;}#sk-container-id-4 div.sk-parallel {display: flex;align-items: stretch;justify-content: center;background-color: white;position: relative;}#sk-container-id-4 div.sk-item::before, #sk-container-id-4 div.sk-parallel-item::before {content: \"\";position: absolute;border-left: 1px solid gray;box-sizing: border-box;top: 0;bottom: 0;left: 50%;z-index: -1;}#sk-container-id-4 div.sk-parallel-item {display: flex;flex-direction: column;z-index: 1;position: relative;background-color: white;}#sk-container-id-4 div.sk-parallel-item:first-child::after {align-self: flex-end;width: 50%;}#sk-container-id-4 div.sk-parallel-item:last-child::after {align-self: flex-start;width: 50%;}#sk-container-id-4 div.sk-parallel-item:only-child::after {width: 0;}#sk-container-id-4 div.sk-dashed-wrapped {border: 1px dashed gray;margin: 0 0.4em 0.5em 0.4em;box-sizing: border-box;padding-bottom: 0.4em;background-color: white;}#sk-container-id-4 div.sk-label label {font-family: monospace;font-weight: bold;display: inline-block;line-height: 1.2em;}#sk-container-id-4 div.sk-label-container {text-align: center;}#sk-container-id-4 div.sk-container {/* jupyter's `normalize.less` sets `[hidden] { display: none; }` but bootstrap.min.css set `[hidden] { display: none !important; }` so we also need the `!important` here to be able to override the default hidden behavior on the sphinx rendered scikit-learn.org. See: https://github.com/scikit-learn/scikit-learn/issues/21755 */display: inline-block !important;position: relative;}#sk-container-id-4 div.sk-text-repr-fallback {display: none;}</style><div id=\"sk-container-id-4\" class=\"sk-top-container\"><div class=\"sk-text-repr-fallback\"><pre>Pipeline(steps=[(&#x27;transformer&#x27;,\n                 ColumnTransformer(transformers=[(&#x27;bool&#x27;,\n                                                  OneHotEncoder(handle_unknown=&#x27;ignore&#x27;),\n                                                  [&#x27;is_weekend&#x27;, &#x27;is_summer&#x27;,\n                                                   &#x27;is_night&#x27;]),\n                                                 (&#x27;std&#x27;, StandardScaler(),\n                                                  [&#x27;ctx_1&#x27;, &#x27;ctx_2&#x27;, &#x27;ctx_3&#x27;,\n                                                   &#x27;ctx_4&#x27;]),\n                                                 (&#x27;4bins&#x27;,\n                                                  KBinsDiscretizer(n_bins=4),\n                                                  [&#x27;hour&#x27;, &#x27;month&#x27;]),\n                                                 (&#x27;2bins&#x27;,\n                                                  KBinsDiscretizer(n_bins=2),\n                                                  [&#x27;temperature_2m&#x27;])])),\n                (&#x27;regressor&#x27;, LinearRegression())])</pre><b>In a Jupyter environment, please rerun this cell to show the HTML representation or trust the notebook. <br />On GitHub, the HTML representation is unable to render, please try loading this page with nbviewer.org.</b></div><div class=\"sk-container\" hidden><div class=\"sk-item sk-dashed-wrapped\"><div class=\"sk-label-container\"><div class=\"sk-label sk-toggleable\"><input class=\"sk-toggleable__control sk-hidden--visually\" id=\"sk-estimator-id-30\" type=\"checkbox\" ><label for=\"sk-estimator-id-30\" class=\"sk-toggleable__label sk-toggleable__label-arrow\">Pipeline</label><div class=\"sk-toggleable__content\"><pre>Pipeline(steps=[(&#x27;transformer&#x27;,\n                 ColumnTransformer(transformers=[(&#x27;bool&#x27;,\n                                                  OneHotEncoder(handle_unknown=&#x27;ignore&#x27;),\n                                                  [&#x27;is_weekend&#x27;, &#x27;is_summer&#x27;,\n                                                   &#x27;is_night&#x27;]),\n                                                 (&#x27;std&#x27;, StandardScaler(),\n                                                  [&#x27;ctx_1&#x27;, &#x27;ctx_2&#x27;, &#x27;ctx_3&#x27;,\n                                                   &#x27;ctx_4&#x27;]),\n                                                 (&#x27;4bins&#x27;,\n                                                  KBinsDiscretizer(n_bins=4),\n                                                  [&#x27;hour&#x27;, &#x27;month&#x27;]),\n                                                 (&#x27;2bins&#x27;,\n                                                  KBinsDiscretizer(n_bins=2),\n                                                  [&#x27;temperature_2m&#x27;])])),\n                (&#x27;regressor&#x27;, LinearRegression())])</pre></div></div></div><div class=\"sk-serial\"><div class=\"sk-item sk-dashed-wrapped\"><div class=\"sk-label-container\"><div class=\"sk-label sk-toggleable\"><input class=\"sk-toggleable__control sk-hidden--visually\" id=\"sk-estimator-id-31\" type=\"checkbox\" ><label for=\"sk-estimator-id-31\" class=\"sk-toggleable__label sk-toggleable__label-arrow\">transformer: ColumnTransformer</label><div class=\"sk-toggleable__content\"><pre>ColumnTransformer(transformers=[(&#x27;bool&#x27;, OneHotEncoder(handle_unknown=&#x27;ignore&#x27;),\n                                 [&#x27;is_weekend&#x27;, &#x27;is_summer&#x27;, &#x27;is_night&#x27;]),\n                                (&#x27;std&#x27;, StandardScaler(),\n                                 [&#x27;ctx_1&#x27;, &#x27;ctx_2&#x27;, &#x27;ctx_3&#x27;, &#x27;ctx_4&#x27;]),\n                                (&#x27;4bins&#x27;, KBinsDiscretizer(n_bins=4),\n                                 [&#x27;hour&#x27;, &#x27;month&#x27;]),\n                                (&#x27;2bins&#x27;, KBinsDiscretizer(n_bins=2),\n                                 [&#x27;temperature_2m&#x27;])])</pre></div></div></div><div class=\"sk-parallel\"><div class=\"sk-parallel-item\"><div class=\"sk-item\"><div class=\"sk-label-container\"><div class=\"sk-label sk-toggleable\"><input class=\"sk-toggleable__control sk-hidden--visually\" id=\"sk-estimator-id-32\" type=\"checkbox\" ><label for=\"sk-estimator-id-32\" class=\"sk-toggleable__label sk-toggleable__label-arrow\">bool</label><div class=\"sk-toggleable__content\"><pre>[&#x27;is_weekend&#x27;, &#x27;is_summer&#x27;, &#x27;is_night&#x27;]</pre></div></div></div><div class=\"sk-serial\"><div class=\"sk-item\"><div class=\"sk-estimator sk-toggleable\"><input class=\"sk-toggleable__control sk-hidden--visually\" id=\"sk-estimator-id-33\" type=\"checkbox\" ><label for=\"sk-estimator-id-33\" class=\"sk-toggleable__label sk-toggleable__label-arrow\">OneHotEncoder</label><div class=\"sk-toggleable__content\"><pre>OneHotEncoder(handle_unknown=&#x27;ignore&#x27;)</pre></div></div></div></div></div></div><div class=\"sk-parallel-item\"><div class=\"sk-item\"><div class=\"sk-label-container\"><div class=\"sk-label sk-toggleable\"><input class=\"sk-toggleable__control sk-hidden--visually\" id=\"sk-estimator-id-34\" type=\"checkbox\" ><label for=\"sk-estimator-id-34\" class=\"sk-toggleable__label sk-toggleable__label-arrow\">std</label><div class=\"sk-toggleable__content\"><pre>[&#x27;ctx_1&#x27;, &#x27;ctx_2&#x27;, &#x27;ctx_3&#x27;, &#x27;ctx_4&#x27;]</pre></div></div></div><div class=\"sk-serial\"><div class=\"sk-item\"><div class=\"sk-estimator sk-toggleable\"><input class=\"sk-toggleable__control sk-hidden--visually\" id=\"sk-estimator-id-35\" type=\"checkbox\" ><label for=\"sk-estimator-id-35\" class=\"sk-toggleable__label sk-toggleable__label-arrow\">StandardScaler</label><div class=\"sk-toggleable__content\"><pre>StandardScaler()</pre></div></div></div></div></div></div><div class=\"sk-parallel-item\"><div class=\"sk-item\"><div class=\"sk-label-container\"><div class=\"sk-label sk-toggleable\"><input class=\"sk-toggleable__control sk-hidden--visually\" id=\"sk-estimator-id-36\" type=\"checkbox\" ><label for=\"sk-estimator-id-36\" class=\"sk-toggleable__label sk-toggleable__label-arrow\">4bins</label><div class=\"sk-toggleable__content\"><pre>[&#x27;hour&#x27;, &#x27;month&#x27;]</pre></div></div></div><div class=\"sk-serial\"><div class=\"sk-item\"><div class=\"sk-estimator sk-toggleable\"><input class=\"sk-toggleable__control sk-hidden--visually\" id=\"sk-estimator-id-37\" type=\"checkbox\" ><label for=\"sk-estimator-id-37\" class=\"sk-toggleable__label sk-toggleable__label-arrow\">KBinsDiscretizer</label><div class=\"sk-toggleable__content\"><pre>KBinsDiscretizer(n_bins=4)</pre></div></div></div></div></div></div><div class=\"sk-parallel-item\"><div class=\"sk-item\"><div class=\"sk-label-container\"><div class=\"sk-label sk-toggleable\"><input class=\"sk-toggleable__control sk-hidden--visually\" id=\"sk-estimator-id-38\" type=\"checkbox\" ><label for=\"sk-estimator-id-38\" class=\"sk-toggleable__label sk-toggleable__label-arrow\">2bins</label><div class=\"sk-toggleable__content\"><pre>[&#x27;temperature_2m&#x27;]</pre></div></div></div><div class=\"sk-serial\"><div class=\"sk-item\"><div class=\"sk-estimator sk-toggleable\"><input class=\"sk-toggleable__control sk-hidden--visually\" id=\"sk-estimator-id-39\" type=\"checkbox\" ><label for=\"sk-estimator-id-39\" class=\"sk-toggleable__label sk-toggleable__label-arrow\">KBinsDiscretizer</label><div class=\"sk-toggleable__content\"><pre>KBinsDiscretizer(n_bins=2)</pre></div></div></div></div></div></div></div></div><div class=\"sk-item\"><div class=\"sk-estimator sk-toggleable\"><input class=\"sk-toggleable__control sk-hidden--visually\" id=\"sk-estimator-id-40\" type=\"checkbox\" ><label for=\"sk-estimator-id-40\" class=\"sk-toggleable__label sk-toggleable__label-arrow\">LinearRegression</label><div class=\"sk-toggleable__content\"><pre>LinearRegression()</pre></div></div></div></div></div></div></div>"
     },
     "execution_count": 43,
     "metadata": {},
     "output_type": "execute_result"
    }
   ],
   "source": [
    "pipe.fit(df.drop(columns=[Y_COLUMN]), df[Y_COLUMN])"
   ],
   "metadata": {
    "collapsed": false,
    "ExecuteTime": {
     "end_time": "2023-06-23T16:58:38.099471Z",
     "start_time": "2023-06-23T16:58:27.779206Z"
    }
   }
  },
  {
   "cell_type": "code",
   "execution_count": 44,
   "outputs": [
    {
     "ename": "KeyError",
     "evalue": "'year'",
     "output_type": "error",
     "traceback": [
      "\u001B[0;31m---------------------------------------------------------------------------\u001B[0m",
      "\u001B[0;31mKeyError\u001B[0m                                  Traceback (most recent call last)",
      "Input \u001B[0;32mIn [44]\u001B[0m, in \u001B[0;36m<cell line: 5>\u001B[0;34m()\u001B[0m\n\u001B[1;32m      2\u001B[0m X_val \u001B[38;5;241m=\u001B[39m pd\u001B[38;5;241m.\u001B[39mread_csv(\u001B[38;5;124m'\u001B[39m\u001B[38;5;124m./data/validation/X_validation.csv\u001B[39m\u001B[38;5;124m'\u001B[39m, index_col\u001B[38;5;241m=\u001B[39m\u001B[38;5;124m\"\u001B[39m\u001B[38;5;124mindex\u001B[39m\u001B[38;5;124m\"\u001B[39m)\n\u001B[1;32m      3\u001B[0m X_val \u001B[38;5;241m=\u001B[39m pd\u001B[38;5;241m.\u001B[39mmerge(left\u001B[38;5;241m=\u001B[39mX_val, right\u001B[38;5;241m=\u001B[39mstation_info[[\u001B[38;5;124m'\u001B[39m\u001B[38;5;124mstation_id\u001B[39m\u001B[38;5;124m'\u001B[39m, \u001B[38;5;124m'\u001B[39m\u001B[38;5;124mlat\u001B[39m\u001B[38;5;124m'\u001B[39m, \u001B[38;5;124m'\u001B[39m\u001B[38;5;124mlon\u001B[39m\u001B[38;5;124m'\u001B[39m, \u001B[38;5;124m'\u001B[39m\u001B[38;5;124maltitude\u001B[39m\u001B[38;5;124m'\u001B[39m, \u001B[38;5;124m'\u001B[39m\u001B[38;5;124mpost_code\u001B[39m\u001B[38;5;124m'\u001B[39m]],\n\u001B[1;32m      4\u001B[0m                  on\u001B[38;5;241m=\u001B[39m[\u001B[38;5;124m'\u001B[39m\u001B[38;5;124mstation_id\u001B[39m\u001B[38;5;124m'\u001B[39m])\n\u001B[0;32m----> 5\u001B[0m X_val \u001B[38;5;241m=\u001B[39m \u001B[43mpd\u001B[49m\u001B[38;5;241;43m.\u001B[39;49m\u001B[43mmerge\u001B[49m\u001B[43m(\u001B[49m\u001B[43mleft\u001B[49m\u001B[38;5;241;43m=\u001B[39;49m\u001B[43mX_val\u001B[49m\u001B[43m,\u001B[49m\u001B[43m \u001B[49m\u001B[43mright\u001B[49m\u001B[38;5;241;43m=\u001B[39;49m\u001B[43mdf_climate\u001B[49m\u001B[38;5;241;43m.\u001B[39;49m\u001B[43mdrop\u001B[49m\u001B[43m(\u001B[49m\u001B[43mcolumns\u001B[49m\u001B[38;5;241;43m=\u001B[39;49m\u001B[43m[\u001B[49m\u001B[38;5;124;43m'\u001B[39;49m\u001B[38;5;124;43mtime\u001B[39;49m\u001B[38;5;124;43m'\u001B[39;49m\u001B[43m]\u001B[49m\u001B[43m)\u001B[49m\u001B[43m,\u001B[49m\u001B[43m \u001B[49m\u001B[43mon\u001B[49m\u001B[38;5;241;43m=\u001B[39;49m\u001B[43m[\u001B[49m\u001B[38;5;124;43m'\u001B[39;49m\u001B[38;5;124;43mhour\u001B[39;49m\u001B[38;5;124;43m'\u001B[39;49m\u001B[43m,\u001B[49m\u001B[43m \u001B[49m\u001B[38;5;124;43m'\u001B[39;49m\u001B[38;5;124;43mday\u001B[39;49m\u001B[38;5;124;43m'\u001B[39;49m\u001B[43m,\u001B[49m\u001B[43m \u001B[49m\u001B[38;5;124;43m'\u001B[39;49m\u001B[38;5;124;43mmonth\u001B[39;49m\u001B[38;5;124;43m'\u001B[39;49m\u001B[43m,\u001B[49m\u001B[43m \u001B[49m\u001B[38;5;124;43m'\u001B[39;49m\u001B[38;5;124;43myear\u001B[39;49m\u001B[38;5;124;43m'\u001B[39;49m\u001B[43m]\u001B[49m\u001B[43m)\u001B[49m\n\u001B[1;32m      7\u001B[0m X_val \u001B[38;5;241m=\u001B[39m X_val\u001B[38;5;241m.\u001B[39massign(\n\u001B[1;32m      8\u001B[0m     year\u001B[38;5;241m=\u001B[39m\u001B[38;5;241m2023\u001B[39m,\n\u001B[1;32m      9\u001B[0m     date\u001B[38;5;241m=\u001B[39m\u001B[38;5;28;01mlambda\u001B[39;00m x: pd\u001B[38;5;241m.\u001B[39mto_datetime(\u001B[38;5;28mdict\u001B[39m(year\u001B[38;5;241m=\u001B[39mx\u001B[38;5;241m.\u001B[39myear, month\u001B[38;5;241m=\u001B[39mx\u001B[38;5;241m.\u001B[39mmonth, day\u001B[38;5;241m=\u001B[39mx\u001B[38;5;241m.\u001B[39mday)),\n\u001B[0;32m   (...)\u001B[0m\n\u001B[1;32m     21\u001B[0m     }\n\u001B[1;32m     22\u001B[0m )\n\u001B[1;32m     24\u001B[0m X_val\u001B[38;5;241m.\u001B[39mhead()\n",
      "File \u001B[0;32m/usr/local/Caskroom/miniconda/base/envs/py310/lib/python3.10/site-packages/pandas/core/reshape/merge.py:107\u001B[0m, in \u001B[0;36mmerge\u001B[0;34m(left, right, how, on, left_on, right_on, left_index, right_index, sort, suffixes, copy, indicator, validate)\u001B[0m\n\u001B[1;32m     90\u001B[0m \u001B[38;5;129m@Substitution\u001B[39m(\u001B[38;5;124m\"\u001B[39m\u001B[38;5;130;01m\\n\u001B[39;00m\u001B[38;5;124mleft : DataFrame or named Series\u001B[39m\u001B[38;5;124m\"\u001B[39m)\n\u001B[1;32m     91\u001B[0m \u001B[38;5;129m@Appender\u001B[39m(_merge_doc, indents\u001B[38;5;241m=\u001B[39m\u001B[38;5;241m0\u001B[39m)\n\u001B[1;32m     92\u001B[0m \u001B[38;5;28;01mdef\u001B[39;00m \u001B[38;5;21mmerge\u001B[39m(\n\u001B[0;32m   (...)\u001B[0m\n\u001B[1;32m    105\u001B[0m     validate: \u001B[38;5;28mstr\u001B[39m \u001B[38;5;241m|\u001B[39m \u001B[38;5;28;01mNone\u001B[39;00m \u001B[38;5;241m=\u001B[39m \u001B[38;5;28;01mNone\u001B[39;00m,\n\u001B[1;32m    106\u001B[0m ) \u001B[38;5;241m-\u001B[39m\u001B[38;5;241m>\u001B[39m DataFrame:\n\u001B[0;32m--> 107\u001B[0m     op \u001B[38;5;241m=\u001B[39m \u001B[43m_MergeOperation\u001B[49m\u001B[43m(\u001B[49m\n\u001B[1;32m    108\u001B[0m \u001B[43m        \u001B[49m\u001B[43mleft\u001B[49m\u001B[43m,\u001B[49m\n\u001B[1;32m    109\u001B[0m \u001B[43m        \u001B[49m\u001B[43mright\u001B[49m\u001B[43m,\u001B[49m\n\u001B[1;32m    110\u001B[0m \u001B[43m        \u001B[49m\u001B[43mhow\u001B[49m\u001B[38;5;241;43m=\u001B[39;49m\u001B[43mhow\u001B[49m\u001B[43m,\u001B[49m\n\u001B[1;32m    111\u001B[0m \u001B[43m        \u001B[49m\u001B[43mon\u001B[49m\u001B[38;5;241;43m=\u001B[39;49m\u001B[43mon\u001B[49m\u001B[43m,\u001B[49m\n\u001B[1;32m    112\u001B[0m \u001B[43m        \u001B[49m\u001B[43mleft_on\u001B[49m\u001B[38;5;241;43m=\u001B[39;49m\u001B[43mleft_on\u001B[49m\u001B[43m,\u001B[49m\n\u001B[1;32m    113\u001B[0m \u001B[43m        \u001B[49m\u001B[43mright_on\u001B[49m\u001B[38;5;241;43m=\u001B[39;49m\u001B[43mright_on\u001B[49m\u001B[43m,\u001B[49m\n\u001B[1;32m    114\u001B[0m \u001B[43m        \u001B[49m\u001B[43mleft_index\u001B[49m\u001B[38;5;241;43m=\u001B[39;49m\u001B[43mleft_index\u001B[49m\u001B[43m,\u001B[49m\n\u001B[1;32m    115\u001B[0m \u001B[43m        \u001B[49m\u001B[43mright_index\u001B[49m\u001B[38;5;241;43m=\u001B[39;49m\u001B[43mright_index\u001B[49m\u001B[43m,\u001B[49m\n\u001B[1;32m    116\u001B[0m \u001B[43m        \u001B[49m\u001B[43msort\u001B[49m\u001B[38;5;241;43m=\u001B[39;49m\u001B[43msort\u001B[49m\u001B[43m,\u001B[49m\n\u001B[1;32m    117\u001B[0m \u001B[43m        \u001B[49m\u001B[43msuffixes\u001B[49m\u001B[38;5;241;43m=\u001B[39;49m\u001B[43msuffixes\u001B[49m\u001B[43m,\u001B[49m\n\u001B[1;32m    118\u001B[0m \u001B[43m        \u001B[49m\u001B[43mcopy\u001B[49m\u001B[38;5;241;43m=\u001B[39;49m\u001B[43mcopy\u001B[49m\u001B[43m,\u001B[49m\n\u001B[1;32m    119\u001B[0m \u001B[43m        \u001B[49m\u001B[43mindicator\u001B[49m\u001B[38;5;241;43m=\u001B[39;49m\u001B[43mindicator\u001B[49m\u001B[43m,\u001B[49m\n\u001B[1;32m    120\u001B[0m \u001B[43m        \u001B[49m\u001B[43mvalidate\u001B[49m\u001B[38;5;241;43m=\u001B[39;49m\u001B[43mvalidate\u001B[49m\u001B[43m,\u001B[49m\n\u001B[1;32m    121\u001B[0m \u001B[43m    \u001B[49m\u001B[43m)\u001B[49m\n\u001B[1;32m    122\u001B[0m     \u001B[38;5;28;01mreturn\u001B[39;00m op\u001B[38;5;241m.\u001B[39mget_result()\n",
      "File \u001B[0;32m/usr/local/Caskroom/miniconda/base/envs/py310/lib/python3.10/site-packages/pandas/core/reshape/merge.py:700\u001B[0m, in \u001B[0;36m_MergeOperation.__init__\u001B[0;34m(self, left, right, how, on, left_on, right_on, axis, left_index, right_index, sort, suffixes, copy, indicator, validate)\u001B[0m\n\u001B[1;32m    693\u001B[0m \u001B[38;5;28mself\u001B[39m\u001B[38;5;241m.\u001B[39m_cross \u001B[38;5;241m=\u001B[39m cross_col\n\u001B[1;32m    695\u001B[0m \u001B[38;5;66;03m# note this function has side effects\u001B[39;00m\n\u001B[1;32m    696\u001B[0m (\n\u001B[1;32m    697\u001B[0m     \u001B[38;5;28mself\u001B[39m\u001B[38;5;241m.\u001B[39mleft_join_keys,\n\u001B[1;32m    698\u001B[0m     \u001B[38;5;28mself\u001B[39m\u001B[38;5;241m.\u001B[39mright_join_keys,\n\u001B[1;32m    699\u001B[0m     \u001B[38;5;28mself\u001B[39m\u001B[38;5;241m.\u001B[39mjoin_names,\n\u001B[0;32m--> 700\u001B[0m ) \u001B[38;5;241m=\u001B[39m \u001B[38;5;28;43mself\u001B[39;49m\u001B[38;5;241;43m.\u001B[39;49m\u001B[43m_get_merge_keys\u001B[49m\u001B[43m(\u001B[49m\u001B[43m)\u001B[49m\n\u001B[1;32m    702\u001B[0m \u001B[38;5;66;03m# validate the merge keys dtypes. We may need to coerce\u001B[39;00m\n\u001B[1;32m    703\u001B[0m \u001B[38;5;66;03m# to avoid incompatible dtypes\u001B[39;00m\n\u001B[1;32m    704\u001B[0m \u001B[38;5;28mself\u001B[39m\u001B[38;5;241m.\u001B[39m_maybe_coerce_merge_keys()\n",
      "File \u001B[0;32m/usr/local/Caskroom/miniconda/base/envs/py310/lib/python3.10/site-packages/pandas/core/reshape/merge.py:1110\u001B[0m, in \u001B[0;36m_MergeOperation._get_merge_keys\u001B[0;34m(self)\u001B[0m\n\u001B[1;32m   1108\u001B[0m     right_keys\u001B[38;5;241m.\u001B[39mappend(rk)\n\u001B[1;32m   1109\u001B[0m \u001B[38;5;28;01mif\u001B[39;00m lk \u001B[38;5;129;01mis\u001B[39;00m \u001B[38;5;129;01mnot\u001B[39;00m \u001B[38;5;28;01mNone\u001B[39;00m:\n\u001B[0;32m-> 1110\u001B[0m     left_keys\u001B[38;5;241m.\u001B[39mappend(\u001B[43mleft\u001B[49m\u001B[38;5;241;43m.\u001B[39;49m\u001B[43m_get_label_or_level_values\u001B[49m\u001B[43m(\u001B[49m\u001B[43mlk\u001B[49m\u001B[43m)\u001B[49m)\n\u001B[1;32m   1111\u001B[0m     join_names\u001B[38;5;241m.\u001B[39mappend(lk)\n\u001B[1;32m   1112\u001B[0m \u001B[38;5;28;01melse\u001B[39;00m:\n\u001B[1;32m   1113\u001B[0m     \u001B[38;5;66;03m# work-around for merge_asof(left_index=True)\u001B[39;00m\n",
      "File \u001B[0;32m/usr/local/Caskroom/miniconda/base/envs/py310/lib/python3.10/site-packages/pandas/core/generic.py:1840\u001B[0m, in \u001B[0;36mNDFrame._get_label_or_level_values\u001B[0;34m(self, key, axis)\u001B[0m\n\u001B[1;32m   1838\u001B[0m     values \u001B[38;5;241m=\u001B[39m \u001B[38;5;28mself\u001B[39m\u001B[38;5;241m.\u001B[39maxes[axis]\u001B[38;5;241m.\u001B[39mget_level_values(key)\u001B[38;5;241m.\u001B[39m_values\n\u001B[1;32m   1839\u001B[0m \u001B[38;5;28;01melse\u001B[39;00m:\n\u001B[0;32m-> 1840\u001B[0m     \u001B[38;5;28;01mraise\u001B[39;00m \u001B[38;5;167;01mKeyError\u001B[39;00m(key)\n\u001B[1;32m   1842\u001B[0m \u001B[38;5;66;03m# Check for duplicates\u001B[39;00m\n\u001B[1;32m   1843\u001B[0m \u001B[38;5;28;01mif\u001B[39;00m values\u001B[38;5;241m.\u001B[39mndim \u001B[38;5;241m>\u001B[39m \u001B[38;5;241m1\u001B[39m:\n",
      "\u001B[0;31mKeyError\u001B[0m: 'year'"
     ]
    }
   ],
   "source": [
    "# load X_val\n",
    "X_val = pd.read_csv('./data/validation/X_validation.csv', index_col=\"index\")\n",
    "X_val = pd.merge(left=X_val, right=station_info[['station_id', 'lat', 'lon', 'altitude', 'post_code']],\n",
    "                 on=['station_id'])\n",
    "X_val = pd.merge(left=X_val, right=df_climate.drop(columns=['time']), on=['hour', 'day', 'month', 'year'])\n",
    "\n",
    "X_val = X_val.assign(\n",
    "    year=2023,\n",
    "    date=lambda x: pd.to_datetime(dict(year=x.year, month=x.month, day=x.day)),\n",
    "    day_of_week=lambda x: x.date.dt.day_of_week,\n",
    "    is_weekend=lambda x: x.day_of_week >= 5,\n",
    "    is_night=lambda x: np.bitwise_or(x.hour >= 20, x.hour <= 7),\n",
    "    is_work_morning=lambda x: np.bitwise_and(x.hour >= 6, x.hour <= 10) & np.bitwise_not(x.is_weekend),\n",
    "    is_summer=lambda x: x.month.between(6, 8),\n",
    ").rename(\n",
    "    columns={\n",
    "        'ctx-1': 'ctx_1',\n",
    "        'ctx-2': 'ctx_2',\n",
    "        'ctx-3': 'ctx_3',\n",
    "        'ctx-4': 'ctx_4',\n",
    "    }\n",
    ")\n",
    "\n",
    "X_val.head()"
   ],
   "metadata": {
    "collapsed": false,
    "ExecuteTime": {
     "end_time": "2023-06-23T16:58:39.888239Z",
     "start_time": "2023-06-23T16:58:38.094318Z"
    }
   }
  },
  {
   "cell_type": "code",
   "execution_count": null,
   "outputs": [],
   "source": [
    "n = 7\n",
    "y_val = pd.DataFrame(\n",
    "    pipe.predict(X_val),\n",
    "    index=X_val.index,\n",
    "    columns=[Y_COLUMN]\n",
    ").assign(index=X_val.index)[['index', \"percentage_docks_available\"]]\n",
    "\n",
    "display(y_val.head())\n",
    "\n",
    "y_val.to_csv(f'./results/v2_{n}.csv', index=False)"
   ],
   "metadata": {
    "collapsed": false,
    "ExecuteTime": {
     "start_time": "2023-06-23T16:58:39.856378Z"
    }
   }
  },
  {
   "cell_type": "code",
   "execution_count": null,
   "outputs": [],
   "source": [],
   "metadata": {
    "collapsed": false,
    "ExecuteTime": {
     "start_time": "2023-06-23T16:58:39.879760Z"
    }
   }
  }
 ],
 "metadata": {
  "kernelspec": {
   "display_name": "Python 3",
   "language": "python",
   "name": "python3"
  },
  "language_info": {
   "codemirror_mode": {
    "name": "ipython",
    "version": 2
   },
   "file_extension": ".py",
   "mimetype": "text/x-python",
   "name": "python",
   "nbconvert_exporter": "python",
   "pygments_lexer": "ipython2",
   "version": "2.7.6"
  }
 },
 "nbformat": 4,
 "nbformat_minor": 0
}
